{
 "cells": [
  {
   "cell_type": "markdown",
   "metadata": {},
   "source": [
    "# Kepler Data"
   ]
  },
  {
   "cell_type": "code",
   "execution_count": 1,
   "metadata": {},
   "outputs": [],
   "source": [
    "import numpy as np\n",
    "import matplotlib.pyplot as plt\n",
    "import os\n",
    "from astropy.io import fits\n",
    "from astropy.table import Table"
   ]
  },
  {
   "cell_type": "code",
   "execution_count": 3,
   "metadata": {},
   "outputs": [],
   "source": [
    "p1 = os.getcwd()\n",
    "p2 = p1 + '/Data/Kepler/'"
   ]
  },
  {
   "cell_type": "code",
   "execution_count": 4,
   "metadata": {},
   "outputs": [
    {
     "data": {
      "text/plain": [
       "SIMPLE  =                    T / conforms to FITS standards                     \n",
       "BITPIX  =                    8 / array data type                                \n",
       "NAXIS   =                    0 / number of array dimensions                     \n",
       "EXTEND  =                    T / file contains extensions                       \n",
       "NEXTEND =                    2 / number of standard extensions                  \n",
       "EXTNAME = 'PRIMARY '           / name of extension                              \n",
       "EXTVER  =                    1 / extension version number (not format version)  \n",
       "ORIGIN  = 'NASA/Ames'          / institution responsible for creating this file \n",
       "DATE    = '2015-08-26'         / file creation date.                            \n",
       "CREATOR = '793608 FluxExporter2PipelineModule' / pipeline job and program used t\n",
       "PROCVER = 'svn+ssh://murzim/repo/soc/tags/release/9.3.21 r60196' / SW version   \n",
       "FILEVER = '6.1     '           / file format version                            \n",
       "TIMVERSN= 'OGIP/93-003'        / OGIP memo number for file format               \n",
       "TELESCOP= 'Kepler  '           / telescope                                      \n",
       "INSTRUME= 'Kepler Photometer'  / detector type                                  \n",
       "OBJECT  = 'KIC 5780885'        / string version of target id                    \n",
       "KEPLERID=              5780885 / unique Kepler target identifier                \n",
       "CHANNEL =                   25 / CCD channel                                    \n",
       "SKYGROUP=                   65 / roll-independent location of channel           \n",
       "MODULE  =                    9 / CCD module                                     \n",
       "OUTPUT  =                    1 / CCD output                                     \n",
       "QUARTER =                    0 / Observing quarter                              \n",
       "SEASON  =                    3 / mission season during which data was collected \n",
       "DATA_REL=                   25 / data release version number                    \n",
       "OBSMODE = 'long cadence'       / observing mode                                 \n",
       "MISSION = 'Kepler  '           / Mission name                                   \n",
       "TTABLEID=                   14 / target table id                                \n",
       "RADESYS = 'ICRS    '           / reference frame of celestial coordinates       \n",
       "RA_OBJ  =           288.581520 / [deg] right ascension                          \n",
       "DEC_OBJ =            41.089810 / [deg] declination                              \n",
       "EQUINOX =               2000.0 / equinox of celestial coordinate system         \n",
       "PMRA    =              -0.0039 / [arcsec/yr] RA proper motion                   \n",
       "PMDEC   =              -0.0139 / [arcsec/yr] Dec proper motion                  \n",
       "PMTOTAL =               0.0144 / [arcsec/yr] total proper motion                \n",
       "PARALLAX=                      / [arcsec] parallax                              \n",
       "GLON    =            72.477869 / [deg] galactic longitude                       \n",
       "GLAT    =            13.462815 / [deg] galactic latitude                        \n",
       "GMAG    =               13.260 / [mag] SDSS g band magnitude                    \n",
       "RMAG    =               12.815 / [mag] SDSS r band magnitude                    \n",
       "IMAG    =               12.724 / [mag] SDSS i band magnitude                    \n",
       "ZMAG    =               12.683 / [mag] SDSS z band magnitude                    \n",
       "D51MAG  =               13.037 / [mag] D51 magnitude,                           \n",
       "JMAG    =               11.833 / [mag] J band magnitude from 2MASS              \n",
       "HMAG    =               11.601 / [mag] H band magnitude from 2MASS              \n",
       "KMAG    =               11.535 / [mag] K band magnitude from 2MASS              \n",
       "KEPMAG  =               12.885 / [mag] Kepler magnitude (Kp)                    \n",
       "GRCOLOR =                0.445 / [mag] (g-r) color, SDSS bands                  \n",
       "JKCOLOR =                0.298 / [mag] (J-K) color, 2MASS bands                 \n",
       "GKCOLOR =                1.725 / [mag] (g-K) color, SDSS g - 2MASS K            \n",
       "TEFF    =                 6027 / [K] Effective temperature                      \n",
       "LOGG    =                3.971 / [cm/s2] log10 surface gravity                  \n",
       "FEH     =                0.100 / [log10([Fe/H])]  metallicity                   \n",
       "EBMINUSV=                0.094 / [mag] E(B-V) reddening                         \n",
       "AV      =                0.290 / [mag] A_v extinction                           \n",
       "RADIUS  =                1.962 / [solar radii] stellar radius                   \n",
       "TMINDEX =            261449297 / unique 2MASS catalog ID                        \n",
       "SCPID   =                      / unique SCP processing ID                       \n",
       "CHECKSUM= '8AGi95Ff8AFf85Ff'   / HDU checksum updated 2015-08-26T17:47:24Z      "
      ]
     },
     "execution_count": 4,
     "metadata": {},
     "output_type": "execute_result"
    }
   ],
   "source": [
    "lcf = fits.open(p2 + 'kplr005780885-2009131105131_llc.fits')\n",
    "lcf_h = lcf[0].header\n",
    "lcf_h"
   ]
  },
  {
   "cell_type": "code",
   "execution_count": 6,
   "metadata": {},
   "outputs": [
    {
     "data": {
      "text/html": [
       "<div><i>Table length=476</i>\n",
       "<table id=\"table140194180093744\" class=\"table-striped table-bordered table-condensed\">\n",
       "<thead><tr><th>TIME</th><th>TIMECORR</th><th>CADENCENO</th><th>SAP_FLUX</th><th>SAP_FLUX_ERR</th><th>SAP_BKG</th><th>SAP_BKG_ERR</th><th>PDCSAP_FLUX</th><th>PDCSAP_FLUX_ERR</th><th>SAP_QUALITY</th><th>PSF_CENTR1</th><th>PSF_CENTR1_ERR</th><th>PSF_CENTR2</th><th>PSF_CENTR2_ERR</th><th>MOM_CENTR1</th><th>MOM_CENTR1_ERR</th><th>MOM_CENTR2</th><th>MOM_CENTR2_ERR</th><th>POS_CORR1</th><th>POS_CORR2</th></tr></thead>\n",
       "<thead><tr><th>BJD - 2454833</th><th>d</th><th></th><th>e-/s</th><th>e-/s</th><th>e-/s</th><th>e-/s</th><th>e-/s</th><th>e-/s</th><th></th><th>pix</th><th>pix</th><th>pix</th><th>pix</th><th>pix</th><th>pix</th><th>pix</th><th>pix</th><th>pixels</th><th>pixels</th></tr></thead>\n",
       "<thead><tr><th>float64</th><th>float32</th><th>int32</th><th>float32</th><th>float32</th><th>float32</th><th>float32</th><th>float32</th><th>float32</th><th>int32</th><th>float64</th><th>float32</th><th>float64</th><th>float32</th><th>float64</th><th>float32</th><th>float64</th><th>float32</th><th>float32</th><th>float32</th></tr></thead>\n",
       "<tr><td>1.2053935e+02</td><td>1.198149e-03</td><td>568</td><td>1.0420339e+05</td><td>8.9133387e+00</td><td>1.5365648e+03</td><td>5.1858151e-01</td><td>1.0826248e+05</td><td>8.7547388e+00</td><td>0</td><td>830.70639</td><td>4.2661868e-05</td><td>297.13084</td><td>4.6001063e-05</td><td>830.72682</td><td>8.7854773e-05</td><td>297.11421</td><td>8.6073000e-05</td><td>7.4677174e-03</td><td>-8.6163729e-04</td></tr>\n",
       "<tr><td>1.2055979e+02</td><td>1.199059e-03</td><td>569</td><td>1.0419719e+05</td><td>8.9129829e+00</td><td>1.5369481e+03</td><td>5.1765609e-01</td><td>1.0830284e+05</td><td>8.8975716e+00</td><td>0</td><td>830.70587</td><td>4.2652660e-05</td><td>297.13125</td><td>4.5985136e-05</td><td>830.72605</td><td>8.7861597e-05</td><td>297.11468</td><td>8.6055588e-05</td><td>7.0044519e-03</td><td>-5.0174445e-04</td></tr>\n",
       "<tr><td>1.2058022e+02</td><td>1.199969e-03</td><td>570</td><td>1.0418611e+05</td><td>8.9125814e+00</td><td>1.5365577e+03</td><td>5.1686895e-01</td><td>1.0828970e+05</td><td>8.9570942e+00</td><td>0</td><td>830.70543</td><td>4.2648655e-05</td><td>297.13071</td><td>4.6054076e-05</td><td>830.72568</td><td>8.7878550e-05</td><td>297.11425</td><td>8.6060638e-05</td><td>6.6038198e-03</td><td>-1.0594198e-03</td></tr>\n",
       "<tr><td>1.2060065e+02</td><td>1.200880e-03</td><td>571</td><td>1.0419765e+05</td><td>8.9129744e+00</td><td>1.5360619e+03</td><td>5.1739919e-01</td><td>1.0835614e+05</td><td>9.0123701e+00</td><td>0</td><td>830.70452</td><td>4.2638723e-05</td><td>297.13080</td><td>4.6078349e-05</td><td>830.72478</td><td>8.7881323e-05</td><td>297.11433</td><td>8.6050939e-05</td><td>5.7786284e-03</td><td>-8.9870702e-04</td></tr>\n",
       "<tr><td>1.2062109e+02</td><td>1.201790e-03</td><td>572</td><td>1.0419615e+05</td><td>8.9130039e+00</td><td>1.5366356e+03</td><td>5.1724762e-01</td><td>1.0834706e+05</td><td>9.0522242e+00</td><td>0</td><td>830.70384</td><td>4.2632168e-05</td><td>297.13035</td><td>4.6145506e-05</td><td>830.72396</td><td>8.7898632e-05</td><td>297.11384</td><td>8.6058768e-05</td><td>5.1907613e-03</td><td>-1.4489236e-03</td></tr>\n",
       "<tr><td>1.2064152e+02</td><td>1.202700e-03</td><td>573</td><td>1.0419157e+05</td><td>8.9127798e+00</td><td>1.5347391e+03</td><td>5.1738399e-01</td><td>1.0836108e+05</td><td>9.0760527e+00</td><td>0</td><td>830.70342</td><td>4.2624328e-05</td><td>297.12996</td><td>4.6193352e-05</td><td>830.72349</td><td>8.7910121e-05</td><td>297.11327</td><td>8.6058353e-05</td><td>4.7461074e-03</td><td>-1.7839953e-03</td></tr>\n",
       "<tr><td>1.2066196e+02</td><td>1.203610e-03</td><td>574</td><td>1.0419240e+05</td><td>8.9128523e+00</td><td>1.5354702e+03</td><td>5.1761484e-01</td><td>1.0835364e+05</td><td>9.0809793e+00</td><td>0</td><td>830.70299</td><td>4.2623931e-05</td><td>297.13016</td><td>4.6197838e-05</td><td>830.72315</td><td>8.7913693e-05</td><td>297.11363</td><td>8.6040913e-05</td><td>4.4473913e-03</td><td>-1.5438384e-03</td></tr>\n",
       "<tr><td>1.2068239e+02</td><td>1.204520e-03</td><td>575</td><td>1.0419598e+05</td><td>8.9130497e+00</td><td>1.5363179e+03</td><td>5.1799345e-01</td><td>1.0833535e+05</td><td>9.0986338e+00</td><td>0</td><td>830.70302</td><td>4.2621756e-05</td><td>297.13006</td><td>4.6203106e-05</td><td>830.72336</td><td>8.7913613e-05</td><td>297.11339</td><td>8.6049855e-05</td><td>4.4241776e-03</td><td>-1.6624429e-03</td></tr>\n",
       "<tr><td>1.2070283e+02</td><td>1.205430e-03</td><td>576</td><td>1.0416688e+05</td><td>8.9120245e+00</td><td>1.5357258e+03</td><td>5.1799655e-01</td><td>1.0833195e+05</td><td>9.0972137e+00</td><td>0</td><td>830.70281</td><td>4.2627602e-05</td><td>297.13014</td><td>4.6207046e-05</td><td>830.72302</td><td>8.7933178e-05</td><td>297.11363</td><td>8.6060347e-05</td><td>4.3180548e-03</td><td>-1.5577048e-03</td></tr>\n",
       "<tr><td>...</td><td>...</td><td>...</td><td>...</td><td>...</td><td>...</td><td>...</td><td>...</td><td>...</td><td>...</td><td>...</td><td>...</td><td>...</td><td>...</td><td>...</td><td>...</td><td>...</td><td>...</td><td>...</td><td>...</td></tr>\n",
       "<tr><td>1.3006182e+02</td><td>1.615112e-03</td><td>1034</td><td>1.0404552e+05</td><td>8.9066458e+00</td><td>1.4934868e+03</td><td>5.1674092e-01</td><td>1.0831331e+05</td><td>9.1085138e+00</td><td>0</td><td>830.68988</td><td>4.2749940e-05</td><td>297.13599</td><td>4.6244491e-05</td><td>830.71208</td><td>8.8222318e-05</td><td>297.11788</td><td>8.6154883e-05</td><td>-6.0777990e-03</td><td>3.3818576e-03</td></tr>\n",
       "<tr><td>1.3008226e+02</td><td>1.615988e-03</td><td>1035</td><td>1.0406434e+05</td><td>8.9073133e+00</td><td>1.4922654e+03</td><td>5.1721132e-01</td><td>1.0832038e+05</td><td>9.0913696e+00</td><td>0</td><td>830.68979</td><td>4.2748354e-05</td><td>297.13636</td><td>4.6209043e-05</td><td>830.71200</td><td>8.8215238e-05</td><td>297.11827</td><td>8.6141379e-05</td><td>-5.9648044e-03</td><td>3.6587415e-03</td></tr>\n",
       "<tr><td>1.3010269e+02</td><td>1.616863e-03</td><td>1036</td><td>1.0405482e+05</td><td>8.9069433e+00</td><td>1.4943782e+03</td><td>5.1682258e-01</td><td>1.0828577e+05</td><td>9.0802460e+00</td><td>0</td><td>830.69051</td><td>4.2748310e-05</td><td>297.13615</td><td>4.6210323e-05</td><td>830.71290</td><td>8.8214867e-05</td><td>297.11822</td><td>8.6147731e-05</td><td>-5.3794901e-03</td><td>3.4473420e-03</td></tr>\n",
       "<tr><td>1.3012313e+02</td><td>1.617739e-03</td><td>1037</td><td>1.0406741e+05</td><td>8.9072886e+00</td><td>1.4927717e+03</td><td>5.1605654e-01</td><td>1.0828752e+05</td><td>9.0575066e+00</td><td>0</td><td>830.69036</td><td>4.2742493e-05</td><td>297.13550</td><td>4.6273890e-05</td><td>830.71266</td><td>8.8203669e-05</td><td>297.11739</td><td>8.6132015e-05</td><td>-5.4475581e-03</td><td>2.8913456e-03</td></tr>\n",
       "<tr><td>1.3014356e+02</td><td>1.618614e-03</td><td>1038</td><td>1.0405712e+05</td><td>8.9070473e+00</td><td>1.4927113e+03</td><td>5.1723015e-01</td><td>1.0827241e+05</td><td>9.0503502e+00</td><td>0</td><td>830.69052</td><td>4.2745472e-05</td><td>297.13562</td><td>4.6266574e-05</td><td>830.71283</td><td>8.8212844e-05</td><td>297.11761</td><td>8.6133630e-05</td><td>-5.3756968e-03</td><td>3.0146255e-03</td></tr>\n",
       "<tr><td>1.3016400e+02</td><td>1.619489e-03</td><td>1039</td><td>1.0407020e+05</td><td>8.9074306e+00</td><td>1.4920259e+03</td><td>5.1769900e-01</td><td>1.0830771e+05</td><td>9.0623312e+00</td><td>0</td><td>830.69044</td><td>4.2739874e-05</td><td>297.13559</td><td>4.6265279e-05</td><td>830.71281</td><td>8.8221481e-05</td><td>297.11741</td><td>8.6138709e-05</td><td>-5.3785946e-03</td><td>3.0046268e-03</td></tr>\n",
       "<tr><td>1.3018443e+02</td><td>1.620364e-03</td><td>1040</td><td>1.0405888e+05</td><td>8.9069910e+00</td><td>1.4927417e+03</td><td>5.1724613e-01</td><td>1.0824904e+05</td><td>9.0076208e+00</td><td>0</td><td>830.69059</td><td>4.2743835e-05</td><td>297.13572</td><td>4.6256428e-05</td><td>830.71297</td><td>8.8207053e-05</td><td>297.11756</td><td>8.6136817e-05</td><td>-5.2745729e-03</td><td>3.0823592e-03</td></tr>\n",
       "<tr><td>1.3020487e+02</td><td>1.621239e-03</td><td>1041</td><td>1.0406235e+05</td><td>8.9070997e+00</td><td>1.4934547e+03</td><td>5.1750183e-01</td><td>1.0830830e+05</td><td>9.0567980e+00</td><td>0</td><td>830.69041</td><td>4.2744843e-05</td><td>297.13536</td><td>4.6282148e-05</td><td>830.71286</td><td>8.8210341e-05</td><td>297.11722</td><td>8.6126107e-05</td><td>-5.4984922e-03</td><td>2.7657927e-03</td></tr>\n",
       "<tr><td>1.3022530e+02</td><td>1.622114e-03</td><td>1042</td><td>1.0407573e+05</td><td>8.9076109e+00</td><td>1.4913923e+03</td><td>5.1736629e-01</td><td>1.0831049e+05</td><td>9.0149450e+00</td><td>0</td><td>830.69048</td><td>4.2744283e-05</td><td>297.13623</td><td>4.6203550e-05</td><td>830.71282</td><td>8.8199195e-05</td><td>297.11811</td><td>8.6132080e-05</td><td>-5.3459653e-03</td><td>3.4525082e-03</td></tr>\n",
       "<tr><td>1.3024573e+02</td><td>1.622989e-03</td><td>1043</td><td>1.0407548e+05</td><td>8.9076395e+00</td><td>1.4909071e+03</td><td>5.1758265e-01</td><td>1.0826209e+05</td><td>8.9682035e+00</td><td>0</td><td>830.69046</td><td>4.2742980e-05</td><td>297.13631</td><td>4.6198169e-05</td><td>830.71297</td><td>8.8196910e-05</td><td>297.11822</td><td>8.6136541e-05</td><td>-5.4041590e-03</td><td>3.6996587e-03</td></tr>\n",
       "</table></div>"
      ],
      "text/plain": [
       "<Table length=476>\n",
       "     TIME         TIMECORR   CADENCENO  ...   POS_CORR1      POS_CORR2   \n",
       "BJD - 2454833        d                  ...     pixels         pixels    \n",
       "   float64        float32      int32    ...    float32        float32    \n",
       "-------------- ------------- ---------- ... -------------- --------------\n",
       " 1.2053935e+02  1.198149e-03        568 ...  7.4677174e-03 -8.6163729e-04\n",
       " 1.2055979e+02  1.199059e-03        569 ...  7.0044519e-03 -5.0174445e-04\n",
       " 1.2058022e+02  1.199969e-03        570 ...  6.6038198e-03 -1.0594198e-03\n",
       " 1.2060065e+02  1.200880e-03        571 ...  5.7786284e-03 -8.9870702e-04\n",
       " 1.2062109e+02  1.201790e-03        572 ...  5.1907613e-03 -1.4489236e-03\n",
       " 1.2064152e+02  1.202700e-03        573 ...  4.7461074e-03 -1.7839953e-03\n",
       " 1.2066196e+02  1.203610e-03        574 ...  4.4473913e-03 -1.5438384e-03\n",
       " 1.2068239e+02  1.204520e-03        575 ...  4.4241776e-03 -1.6624429e-03\n",
       " 1.2070283e+02  1.205430e-03        576 ...  4.3180548e-03 -1.5577048e-03\n",
       "           ...           ...        ... ...            ...            ...\n",
       " 1.3006182e+02  1.615112e-03       1034 ... -6.0777990e-03  3.3818576e-03\n",
       " 1.3008226e+02  1.615988e-03       1035 ... -5.9648044e-03  3.6587415e-03\n",
       " 1.3010269e+02  1.616863e-03       1036 ... -5.3794901e-03  3.4473420e-03\n",
       " 1.3012313e+02  1.617739e-03       1037 ... -5.4475581e-03  2.8913456e-03\n",
       " 1.3014356e+02  1.618614e-03       1038 ... -5.3756968e-03  3.0146255e-03\n",
       " 1.3016400e+02  1.619489e-03       1039 ... -5.3785946e-03  3.0046268e-03\n",
       " 1.3018443e+02  1.620364e-03       1040 ... -5.2745729e-03  3.0823592e-03\n",
       " 1.3020487e+02  1.621239e-03       1041 ... -5.4984922e-03  2.7657927e-03\n",
       " 1.3022530e+02  1.622114e-03       1042 ... -5.3459653e-03  3.4525082e-03\n",
       " 1.3024573e+02  1.622989e-03       1043 ... -5.4041590e-03  3.6996587e-03"
      ]
     },
     "execution_count": 6,
     "metadata": {},
     "output_type": "execute_result"
    }
   ],
   "source": [
    "lcf_d = Table.read(lcf[1])\n",
    "lcf_d"
   ]
  },
  {
   "cell_type": "code",
   "execution_count": 7,
   "metadata": {},
   "outputs": [
    {
     "data": {
      "text/plain": [
       "<ErrorbarContainer object of 3 artists>"
      ]
     },
     "execution_count": 7,
     "metadata": {},
     "output_type": "execute_result"
    },
    {
     "data": {
      "image/png": "[encoded data removed]",
      "text/plain": [
       "<Figure size 768x432 with 1 Axes>"
      ]
     },
     "metadata": {
      "needs_background": "light"
     },
     "output_type": "display_data"
    }
   ],
   "source": [
    "plt.figure(figsize=(16/1.5, 9/1.5))\n",
    "plt.errorbar(lcf_d['TIME'], lcf_d['PDCSAP_FLUX'],fmt='.')"
   ]
  },
  {
   "cell_type": "code",
   "execution_count": null,
   "metadata": {},
   "outputs": [],
   "source": []
  }
 ],
 "metadata": {
  "interpreter": {
   "hash": "98656aa1b2634079f577e60edca7f30b1f5a1cc6a5ea06e52fddb5d397aa98e9"
  },
  "kernelspec": {
   "display_name": "Python 3.8.12 64-bit ('base': conda)",
   "language": "python",
   "name": "python3"
  },
  "language_info": {
   "codemirror_mode": {
    "name": "ipython",
    "version": 3
   },
   "file_extension": ".py",
   "mimetype": "text/x-python",
   "name": "python",
   "nbconvert_exporter": "python",
   "pygments_lexer": "ipython3",
   "version": "3.8.12"
  },
  "orig_nbformat": 4
 },
 "nbformat": 4,
 "nbformat_minor": 2
}
